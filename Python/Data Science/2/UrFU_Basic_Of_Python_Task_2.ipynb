{
  "nbformat": 4,
  "nbformat_minor": 0,
  "metadata": {
    "colab": {
      "provenance": []
    },
    "kernelspec": {
      "name": "python3",
      "display_name": "Python 3"
    },
    "language_info": {
      "name": "python"
    }
  },
  "cells": [
    {
      "cell_type": "markdown",
      "source": [
        "# **Задание, которое в форме для ДЗ - из исходной таблицы требуется удалить строки данных, содержащие попуски, NaN, прочерки и т.д. Столбец Date разделить на три столбца (день, месяц, год), аналогично поступить со столбцом Time (минуты, секунды). Данные в столбце wind_speed_2 оставить только в м/с. В остальных столбцах оставить только числовые данные без лишних символов.**\n",
        "\n",
        "---"
      ],
      "metadata": {
        "id": "1LPhpmCIJ2NY"
      }
    },
    {
      "cell_type": "markdown",
      "source": [
        "После выполнения работы был замечены некоторые недостатки исходной таблицы:\n",
        "\n",
        "1. Показания влажности отрицательные;\n",
        "2. В некоторых ячейках отсутсвует показание в м/с;\n",
        "3. Была другая задача с исходной таблицей (в задании надо было разделить два стоблца Date и Time, а в таблице всё находилось в столбце Date);\n",
        "4. При загрузки таблицы в Colab проценты перевелись в числовое соотношение процента от 0 до 1.\n",
        "\n",
        "Данные недостатки были учтены в данном коде.\n",
        "\n",
        "---"
      ],
      "metadata": {
        "id": "9ZvURPcpJ2Dv"
      }
    },
    {
      "cell_type": "code",
      "execution_count": null,
      "metadata": {
        "colab": {
          "base_uri": "https://localhost:8080/"
        },
        "id": "OrCgVQfIJzIk",
        "outputId": "1467f9cf-25cd-4efa-8a8b-f5681503f056"
      },
      "outputs": [
        {
          "output_type": "stream",
          "name": "stdout",
          "text": [
            "БЫЛО \n",
            "     Temp             Date Day_number  Lightness  Solar_ang_1   Temp_2  \\\n",
            "0    0.45  23.11.2015 0:00       d327      0.604   -20.834944   1.0 °C   \n",
            "1    0.25  23.11.2015 0:30       d327      0.581   -20.863944   1.0 °C   \n",
            "2   -0.12  23.11.2015 1:00       d327      0.569   -20.741944   1.0 °C   \n",
            "3    0.25  23.11.2015 1:30       d327      0.629   -20.835944   1.0 °C   \n",
            "4    0.17  23.11.2015 2:00       d327      0.551   -20.894944   0.0 °C   \n",
            "..    ...              ...        ...        ...          ...      ...   \n",
            "153 -1.38  26.11.2015 4:30       d330      0.595   -21.339679  -4.0 °C   \n",
            "154 -1.40  26.11.2015 5:00       d330      0.542   -21.391679  -5.0 °C   \n",
            "155 -1.71  26.11.2015 5:30       d330      0.541   -21.323679  -5.0 °C   \n",
            "156 -1.47  26.11.2015 6:00       d330      0.577   -21.439679  -5.0 °C   \n",
            "157 -2.02  26.11.2015 6:30       d330      0.555   -21.399679  -5.0 °C   \n",
            "\n",
            "     Humidity Visibility           Wind_speed  \n",
            "0       -0.99    10.0 км  25.2 км/ч / 7.0 m/s  \n",
            "1        0.87    10.0 км  25.2 км/ч / 7.0 m/s  \n",
            "2        0.87    10.0 км  10.8 км/ч / 3.0 m/s  \n",
            "3       -0.99    10.0 км  10.8 км/ч / 3.0 m/s  \n",
            "4        0.87    10.0 км  10.8 км/ч / 3.0 m/s  \n",
            "..        ...        ...                  ...  \n",
            "153      0.93    10.0 км   7.2 км/ч / 2.0 m/s  \n",
            "154      1.00    10.0 км   7.2 км/ч / 2.0 m/s  \n",
            "155      1.00    10.0 км   7.2 км/ч / 2.0 m/s  \n",
            "156      0.93     7.0 км                  NaN  \n",
            "157      0.93     7.0 км                  NaN  \n",
            "\n",
            "[158 rows x 9 columns]\n",
            "\n",
            "\tФорматы в таблице:\n",
            "Day              int64\n",
            "Month            int64\n",
            "Year             int64\n",
            "Hour             int64\n",
            "Minute           int64\n",
            "Day_number       int64\n",
            "Temp           float64\n",
            "Temp_2         float64\n",
            "Humidity       float64\n",
            "Visibility     float64\n",
            "Lightness      float64\n",
            "Wind_speed     float64\n",
            "Solar_ang_1    float64\n",
            "dtype: object\n",
            "\n",
            "\tСТАЛО: \n",
            "    Day  Month  Year  Hour  Minute  Day_number  Temp  Temp_2  Humidity  \\\n",
            "0    23     11  2015     0       0         327  0.45     1.0      99.0   \n",
            "1    23     11  2015     0      30         327  0.25     1.0      87.0   \n",
            "2    23     11  2015     1       0         327 -0.12     1.0      87.0   \n",
            "3    23     11  2015     1      30         327  0.25     1.0      99.0   \n",
            "4    23     11  2015     2       0         327  0.17     0.0      87.0   \n",
            "..  ...    ...   ...   ...     ...         ...   ...     ...       ...   \n",
            "83   26     11  2015     3      30         330 -1.29     3.0      93.0   \n",
            "84   26     11  2015     4       0         330 -1.42     4.0      93.0   \n",
            "85   26     11  2015     4      30         330 -1.38     4.0      93.0   \n",
            "86   26     11  2015     5       0         330 -1.40     5.0     100.0   \n",
            "87   26     11  2015     5      30         330 -1.71     5.0     100.0   \n",
            "\n",
            "    Visibility  Lightness  Wind_speed  Solar_ang_1  \n",
            "0         10.0      0.604         7.0   -20.834944  \n",
            "1         10.0      0.581         7.0   -20.863944  \n",
            "2         10.0      0.569         3.0   -20.741944  \n",
            "3         10.0      0.629         3.0   -20.835944  \n",
            "4         10.0      0.551         3.0   -20.894944  \n",
            "..         ...        ...         ...          ...  \n",
            "83        10.0      0.484         2.0   -21.323679  \n",
            "84        10.0      0.692         2.0   -21.299679  \n",
            "85        10.0      0.595         2.0   -21.339679  \n",
            "86        10.0      0.542         2.0   -21.391679  \n",
            "87        10.0      0.541         2.0   -21.323679  \n",
            "\n",
            "[88 rows x 13 columns]\n",
            "\n"
          ]
        }
      ],
      "source": [
        "# Для использования данных из Drive\n",
        "from google.colab import drive\n",
        "\n",
        "#Для работы с данными\n",
        "import pandas as pd\n",
        "import numpy as np\n",
        "\n",
        "# PATH = '/content/drive/MyDrive/Colab Notebooks/s10.xlsx';\n",
        "# drive.mount('/content/drive');\n",
        "\n",
        "PATH = '/content/s10.xlsx';\n",
        "\n",
        "def clear_data(path):\n",
        "\n",
        "  rew_data = pd.read_excel(path, na_values=['?', '-', ' ', '_', '–',], header = 0);\n",
        "\n",
        "  data = rew_data.copy();\n",
        "\n",
        "  data[['DMY', 'HM']] = data['Date'].str.split(' ', 1, expand = True);\n",
        "\n",
        "  data['Day'] = data['DMY'].str.split('.', expand = True)[0];\n",
        "  data['Month'] = data['DMY'].str.split('.', expand = True)[1];\n",
        "  data['Year'] = data['DMY'].str.split('.', expand = True)[2];\n",
        "\n",
        "  data['Hour'] = data['HM'].str.split(':', expand=True)[0];\n",
        "  data['Minute'] = data['HM'].str.split(':', expand=True)[1];\n",
        "\n",
        "  data['Wind_speed'] = data['Wind_speed'].str.split('/', expand = True)[2];\n",
        "\n",
        "  date = data.replace(['?', '-', ' ', '  ', '   ', '_', '–'], np.nan, inplace = True);\n",
        "  data = data.dropna(axis=0);\n",
        "\n",
        "  data = data.replace(\"[^\\d\\.]\", \"\", regex = True);\n",
        "\n",
        "  data[\"Humidity\"] = abs(data.Humidity.astype(float) * 100);\n",
        "\n",
        "  data = data.drop(labels = ['DMY' ,'HM'], axis=1);\n",
        "\n",
        "  data_cleared = data.reindex(columns=['Day', 'Month', 'Year', 'Hour', 'Minute',\n",
        "                                       'Day_number', 'Temp', 'Temp_2', 'Humidity', 'Visibility',\n",
        "                                       'Lightness', 'Wind_speed',  'Solar_ang_1']);\n",
        "\n",
        "  convert_dict = {\"Day\": int, \"Month\": int, \"Year\": int, \"Hour\": int, \"Minute\": int, \"Day_number\": int,\n",
        "                  \"Temp\": float, \"Temp_2\": float, \"Humidity\": float, \"Visibility\": float, \"Lightness\": float, \"Wind_speed\": float, \"Solar_ang_1\": float};\n",
        "  data_cleared = data_cleared.astype(convert_dict);\n",
        "\n",
        "  data_cleared.to_excel('/content/s10_cleared_with_old_index.xlsx');\n",
        "\n",
        "  data_cleared = data_cleared.reset_index(drop = True);\n",
        "  data_cleared.to_excel('/content/s10_cleared_with_new_index.xlsx');\n",
        "\n",
        "  data_cleared.to_excel('/content/s10_cleared_without_index.xlsx', index = False);\n",
        "\n",
        "  print(f'\\tФорматы в таблице:\\n{data_cleared.dtypes}\\n');\n",
        "\n",
        "  return data_cleared;\n",
        "\n",
        "print(f'\\tРезультат фильтрации входных данных: \\n{clear_data(PATH)}\\n')"
      ]
    },
    {
      "cell_type": "code",
      "source": [],
      "metadata": {
        "id": "5cbDP-I0uVAI"
      },
      "execution_count": null,
      "outputs": []
    }
  ]
}